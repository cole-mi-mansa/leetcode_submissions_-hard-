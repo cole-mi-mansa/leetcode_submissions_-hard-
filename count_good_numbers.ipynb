{
 "cells": [
  {
   "cell_type": "code",
   "execution_count": 34,
   "id": "c0692ad2",
   "metadata": {},
   "outputs": [],
   "source": [
    "def n_digit_numbers(n):\n",
    "    n_arr = []\n",
    "    if n == 1:\n",
    "        for j in range(10):\n",
    "            n_arr.append(j)\n",
    "    else:\n",
    "        for i in range((10**(n-1)), 10**n):\n",
    "            n_arr.append(i)\n",
    "    return n_arr\n",
    "\n",
    "def good_numbers(n):\n",
    "    count = 0\n",
    "    for i in n_digit_numbers(n):\n",
    "        if good_num(i) == True:\n",
    "            count += 1\n",
    "    return f\"There are {count} good {n}-digit numbers!\"\n",
    "\n",
    "def good_num(num):\n",
    "    count = 0\n",
    "    num_arr = []\n",
    "    for i in str(num):\n",
    "        num_arr.append(int(i))\n",
    "    for j in range(len(num_arr)):\n",
    "        if j % 2 == 0:\n",
    "            if num_arr[j] % 2 == 0:\n",
    "                count += 1\n",
    "        else:\n",
    "            if num_arr[j] in [2,3,5,7]:\n",
    "                count += 1\n",
    "    if count == len(num_arr):\n",
    "        return True\n",
    "    else:\n",
    "        return False \n"
   ]
  },
  {
   "cell_type": "code",
   "execution_count": 35,
   "id": "bde589f5",
   "metadata": {},
   "outputs": [
    {
     "name": "stdout",
     "output_type": "stream",
     "text": [
      "[0, 1, 2, 3, 4, 5, 6, 7, 8, 9]\n"
     ]
    }
   ],
   "source": [
    "print(n_digit_numbers(1))"
   ]
  },
  {
   "cell_type": "code",
   "execution_count": 36,
   "id": "77755d7c",
   "metadata": {},
   "outputs": [
    {
     "name": "stdout",
     "output_type": "stream",
     "text": [
      "There are 5 good 1-digit numbers!\n"
     ]
    }
   ],
   "source": [
    "print(good_numbers(1))"
   ]
  },
  {
   "cell_type": "code",
   "execution_count": 37,
   "id": "5c3e1834",
   "metadata": {},
   "outputs": [
    {
     "name": "stdout",
     "output_type": "stream",
     "text": [
      "There are 16 good 2-digit numbers!\n"
     ]
    }
   ],
   "source": [
    "print(good_numbers(2))"
   ]
  },
  {
   "cell_type": "code",
   "execution_count": 38,
   "id": "a7c1ae1c",
   "metadata": {},
   "outputs": [
    {
     "name": "stdout",
     "output_type": "stream",
     "text": [
      "There are 80 good 3-digit numbers!\n"
     ]
    }
   ],
   "source": [
    "print(good_numbers(3))"
   ]
  },
  {
   "cell_type": "code",
   "execution_count": 39,
   "id": "262514fe",
   "metadata": {},
   "outputs": [
    {
     "name": "stdout",
     "output_type": "stream",
     "text": [
      "There are 320 good 4-digit numbers!\n"
     ]
    }
   ],
   "source": [
    "print(good_numbers(4))"
   ]
  },
  {
   "cell_type": "code",
   "execution_count": 40,
   "id": "7de79de4",
   "metadata": {},
   "outputs": [
    {
     "name": "stdout",
     "output_type": "stream",
     "text": [
      "There are 1600 good 5-digit numbers!\n"
     ]
    }
   ],
   "source": [
    "print(good_numbers(5))"
   ]
  }
 ],
 "metadata": {
  "kernelspec": {
   "display_name": "Python 3",
   "language": "python",
   "name": "python3"
  },
  "language_info": {
   "codemirror_mode": {
    "name": "ipython",
    "version": 3
   },
   "file_extension": ".py",
   "mimetype": "text/x-python",
   "name": "python",
   "nbconvert_exporter": "python",
   "pygments_lexer": "ipython3",
   "version": "3.13.1"
  }
 },
 "nbformat": 4,
 "nbformat_minor": 5
}
